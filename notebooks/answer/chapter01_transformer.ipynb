{
 "cells": [
  {
   "cell_type": "markdown",
   "id": "5df01ace",
   "metadata": {},
   "source": [
    "This is for the book Build a Text to Image Generator from Scratch by Mark Liu, published by Manning Publications. See https://mng.bz/vZem and https://github.com/markhliu for details."
   ]
  },
  {
   "cell_type": "markdown",
   "id": "929b05de",
   "metadata": {},
   "source": [
    "# **Colabユーザーの皆さまへ**\n",
    "\n",
    "# **このファイルに直接書き込まないでください—作業内容が消えるかもしれません！**\n",
    "\n",
    "# **作業を始める前に必ずコピーを作成してください。**\n",
    "\n",
    "コピーの作り方\n",
    "\n",
    "1. 左上の「File」をクリック。\n",
    "> *もし「File」や「Runtime」などのメニューが見当たらない場合は、右上の「v」マークをクリックして表示させてください。*\n",
    "\n",
    "2. 「Save a copy in Drive」を選択\n",
    "\n",
    "3. コピーしたファイル名を「YOURNAMEs\\_FileName.ipynb」に変更してください。\n",
    "> 例：名前がOliviaなら → Olivias_FileName.ipynb\n",
    "\n",
    "\n",
    "\n",
    "---\n",
    "\n",
    "* チェックマーク（✅）は保存されません。Chromeのリロードボタンでページを更新すると消えます。<br>\n",
    "後で続きからやりたい場合は、テキストセルを追加して「SO FAR DONE」など書いておいてください。\n",
    "\n",
    "---\n",
    "\n",
    "* Colabでは、**30分〜90分ごとに以前の出力がリセットされます**。<br>\n",
    "そのため、`~~ is not defined`のエラーが**頻繁に**起こります。\n",
    "\n",
    "  🔁 `~~ is not defined` エラー対処法\n",
    "  1. まず、変数名のスペルをよく確認してください。<br>\n",
    "  2. スペルが正しいのにエラーが出るなら、**再起動したいセルをクリック**。<br>\n",
    "  3. 左上の「Runtime」→「Run before」をクリック。<br>\n",
    "    → これで**それまでのすべてのセルが再実行されます**。\n",
    "  4. もう一度セルを実行してください。\n",
    "\n",
    "  もしこの手順をやってもエラーが出るなら、<br>\n",
    "  以前のセルでのTODO回答に基本的なミスがあるかもしれません。<br>\n",
    "  答えをよく見直してください。<br>\n",
    "  またはChatGPTなどのサポートに相談してください。"
   ]
  },
  {
   "cell_type": "markdown",
   "id": "a552f2d9",
   "metadata": {},
   "source": [
    "この章で扱う内容は次のとおりです:\n",
    "\n",
    "* Query・Key・Value を使って、系列内の要素に重みを割り当てる方法\n",
    "\n",
    "* エンコーダのみ・デコーダのみ・エンコーダ―デコーダ型 のTransformer\n",
    "\n",
    "* 言語翻訳のために Transformerをゼロから構築 すること\n",
    "\n",
    "* 単語埋め込み と 位置エンコーディング の理解\n",
    "\n",
    "* ドイツ語から英語への翻訳を行うために Transformerをゼロから学習 させること\n",
    "\n",
    "より深く勉強したい人は[こちら](https://github.com/HayatoHongo/Everyones_nanoGPT)を参照。"
   ]
  },
  {
   "cell_type": "markdown",
   "id": "0a16112c",
   "metadata": {},
   "source": []
  }
 ],
 "metadata": {
  "language_info": {
   "name": "python"
  }
 },
 "nbformat": 4,
 "nbformat_minor": 5
}
