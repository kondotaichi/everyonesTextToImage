{
 "cells": [
  {
   "cell_type": "markdown",
   "id": "9d9365db",
   "metadata": {},
   "source": [
    "この章では、text to imageではなく、image to text、つまりテキストから画像を生成する流れを実装していきます。</br>"
   ]
  },
  {
   "cell_type": "code",
   "execution_count": 1,
   "id": "183fec14",
   "metadata": {},
   "outputs": [
    {
     "data": {
      "text/plain": [
       "<torch._C.Generator at 0x1150ef770>"
      ]
     },
     "execution_count": 1,
     "metadata": {},
     "output_type": "execute_result"
    }
   ],
   "source": [
    "\n",
    "import math\n",
    "# テンソルを見やすく表示する関数（スキップしても構いません）\n",
    "import torch\n",
    "import torch.nn as nn\n",
    "\n",
    "def print_formatted_tensor(*args, width=6, decimals=2):\n",
    "    \"\"\"\n",
    "    \n",
    "    A function that neatly formats and displays a PyTorch Tensor, and also prints its size.\n",
    "\n",
    "    Example usage:\n",
    "        print_formatted_tensor(\"名前\", tensor)\n",
    "        print_formatted_tensor(tensor)\n",
    "\n",
    "    Args:\n",
    "        *args: If given 1 argument, it is treated as a tensor.\n",
    "               If given 2 arguments, the first is treated as the name, the second as the tensor.\n",
    "        width (int): Display width for each number (default: 6)\n",
    "        decimals (int): Number of decimal places to show (default: 2)\n",
    "    \"\"\"\n",
    "    \n",
    "\n",
    "    # 引数からテンソルと名前を決定する\n",
    "    if not args:\n",
    "        raise ValueError(\"At least one argument is required.\")\n",
    "    if isinstance(args[0], str):\n",
    "        if len(args) < 2:\n",
    "            raise ValueError(\"Tensor is not specified.\")\n",
    "        name, tensor = args[0], args[1]\n",
    "    else:\n",
    "        name, tensor = None, args[0]\n",
    "\n",
    "    # Tensorをリストに変換する\n",
    "    tensor_list = tensor.detach().cpu().tolist()\n",
    "\n",
    "    def format_list(lst, indent):\n",
    "        \"\"\"再帰的に入れ子になったリストを整形して文字列を返す\"\"\"\n",
    "        # 内容がリストの場合は再度返す\n",
    "        if isinstance(lst, list) and lst and isinstance(lst[0], list):\n",
    "            inner = \",\\n\".join(\" \" * indent + format_list(sub, indent + 2) for sub in lst)\n",
    "            return \"[\\n\" + inner + \"\\n\" + \" \" * (indent - 2) + \"]\"\n",
    "        # 数字リストの場合\n",
    "        return \"[\" + \", \".join(f\"{v:{width}.{decimals}f}\" for v in lst) + \"]\"\n",
    "\n",
    "    # フォーマット済み文字列（最外枠の角括弧は削除されます）\n",
    "    formatted = format_list(tensor_list, indent=9)\n",
    "    inner_formatted = formatted[1:-1].strip()\n",
    "\n",
    "    # 結果出力\n",
    "    if name:\n",
    "        print(name)\n",
    "    print(f\"Tensor Size: {list(tensor.size())}\")\n",
    "    print(\"tensor([\")\n",
    "    print(\" \" * 9 + inner_formatted)\n",
    "    print(\" \" * 7 + \"])\")\n",
    "\n",
    "\n",
    "\n",
    "torch.manual_seed(1337)"
   ]
  },
  {
   "cell_type": "markdown",
   "id": "1bdaf6b5",
   "metadata": {},
   "source": [
    "# Chapter 1 データセットの確認\n",
    "まずはデータセットをチラ見するところからです。 "
   ]
  },
  {
   "cell_type": "code",
   "execution_count": null,
   "id": "74f6708e",
   "metadata": {},
   "outputs": [],
   "source": [
    "import json\n",
    "\n",
    "with open('/content/txt2img/files/dataset_flickr8k.json', 'r') as fb:\n",
    "    data = json.load(fb)"
   ]
  }
 ],
 "metadata": {
  "kernelspec": {
   "display_name": "Python 3",
   "language": "python",
   "name": "python3"
  },
  "language_info": {
   "codemirror_mode": {
    "name": "ipython",
    "version": 3
   },
   "file_extension": ".py",
   "mimetype": "text/x-python",
   "name": "python",
   "nbconvert_exporter": "python",
   "pygments_lexer": "ipython3",
   "version": "3.10.4"
  }
 },
 "nbformat": 4,
 "nbformat_minor": 5
}
